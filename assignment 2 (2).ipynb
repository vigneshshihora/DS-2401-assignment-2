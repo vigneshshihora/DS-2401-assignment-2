{
 "cells": [
  {
   "cell_type": "code",
   "execution_count": 1,
   "id": "e2ac7872",
   "metadata": {},
   "outputs": [
    {
     "ename": "SyntaxError",
     "evalue": "invalid syntax (1198702194.py, line 8)",
     "output_type": "error",
     "traceback": [
      "\u001b[1;36m  Cell \u001b[1;32mIn[1], line 8\u001b[1;36m\u001b[0m\n\u001b[1;33m    sample_text =\u001b[0m\n\u001b[1;37m                  ^\u001b[0m\n\u001b[1;31mSyntaxError\u001b[0m\u001b[1;31m:\u001b[0m invalid syntax\n"
     ]
    }
   ],
   "source": [
    "import re\n",
    "\n",
    "def replace_with_colon(text):\n",
    "    pattern = r'[ ,.]'\n",
    "    modified_text = re.sub(pattern, ':', text)\n",
    "    return modified_text\n",
    "\n",
    "sample_text = \n",
    "result = replace_with_colon(sample_text)\n",
    "print(result)"
   ]
  },
  {
   "cell_type": "code",
   "execution_count": 10,
   "id": "e685f60f",
   "metadata": {},
   "outputs": [
    {
     "name": "stdout",
     "output_type": "stream",
     "text": [
      "python:assignment:Regax:exercises:\n"
     ]
    }
   ],
   "source": [
    "import re\n",
    "def replace_with_colon(text):\n",
    "    pattern= r'[ , .]'\n",
    "    modified_text=re.sub(pattern,':',text)\n",
    "    return modified_text\n",
    "sample_text='python assignment,Regax exercises.'\n",
    "result=replace_with_colon(sample_text)\n",
    "print(result)"
   ]
  },
  {
   "cell_type": "code",
   "execution_count": 82,
   "id": "2f39faaf",
   "metadata": {},
   "outputs": [
    {
     "name": "stdout",
     "output_type": "stream",
     "text": [
      "             SUMMARY\n",
      "0       hello world \n",
      "1         XXXXX test\n",
      "2  123four five six \n"
     ]
    }
   ],
   "source": [
    "import pandas as pd\n",
    "import re\n",
    "data = { 'SUMMARY': ['hello, world!', 'XXXXX test', '123four, five:; six...']}  \n",
    "cleaned_data = {key: [re.sub(r'\\W+', ' ', str(val)) for val in values] for key, values in data.items()}\n",
    "df = pd.DataFrame(cleaned_data)\n",
    "print(df)"
   ]
  },
  {
   "cell_type": "code",
   "execution_count": 3,
   "id": "325810bb",
   "metadata": {},
   "outputs": [
    {
     "name": "stdout",
     "output_type": "stream",
     "text": [
      "Long words in the text: ['This', 'sample', 'text', 'with', 'some', 'long', 'words', 'like', 'apple', 'banana', 'orange']\n"
     ]
    }
   ],
   "source": [
    "import re\n",
    "\n",
    "def find_long_words(text):\n",
    "    pattern = re.compile(r'\\b\\w{4,}\\b')\n",
    "    long_words = pattern.findall(text)\n",
    "    return long_words\n",
    "    text = \"This is a sample text with some long words like apple, banana, and orange.\"\n",
    "    result = find_long_words(text)\n",
    "print(\"Long words in the text:\", result)"
   ]
  },
  {
   "cell_type": "code",
   "execution_count": 4,
   "id": "935123d1",
   "metadata": {},
   "outputs": [
    {
     "name": "stdout",
     "output_type": "stream",
     "text": [
      "Words of three, four, or five characters in the text: ['This', 'text', 'with', 'some', 'words', 'such', 'dog', 'cat', 'apple', 'and']\n"
     ]
    }
   ],
   "source": [
    "import re\n",
    "\n",
    "def find_words(text):\n",
    "    pattern = re.compile(r'\\b\\w{3,5}\\b')\n",
    "    words = pattern.findall(text)\n",
    "\n",
    "    return words\n",
    "text = \"This is a sample text with some words of varying lengths such as dog, cat, apple, and orange.\"\n",
    "result = find_words(text)\n",
    "print(\"Words of three, four, or five characters in the text:\", result)"
   ]
  },
  {
   "cell_type": "code",
   "execution_count": 8,
   "id": "53374b2a",
   "metadata": {},
   "outputs": [
    {
     "name": "stdout",
     "output_type": "stream",
     "text": [
      "['example .', 'hr@fliprobo .', 'github .', 'Hello ', 'Data ']\n"
     ]
    }
   ],
   "source": [
    "import re\n",
    "\n",
    "def remove_parenthesis(strings):\n",
    "    pattern = re.compile(r'\\([^)]*\\)')\n",
    "    result = []\n",
    "    for string in strings:\n",
    "        new_string = re.sub(pattern, '', string)\n",
    "        result.append(new_string)\n",
    "    \n",
    "    return result\n",
    "sample_text = [\"example .(com)\", \"hr@fliprobo .(com)\", \"github .(com)\", \"Hello (Data Science World)\", \"Data (Scientist)\"]\n",
    "print(remove_parenthesis(sample_text))"
   ]
  },
  {
   "cell_type": "markdown",
   "id": "493c03ec",
   "metadata": {},
   "source": []
  },
  {
   "cell_type": "markdown",
   "id": "614460b1",
   "metadata": {},
   "source": []
  },
  {
   "cell_type": "code",
   "execution_count": 27,
   "id": "dc653384",
   "metadata": {},
   "outputs": [
    {
     "ename": "SyntaxError",
     "evalue": "invalid syntax (2354652297.py, line 9)",
     "output_type": "error",
     "traceback": [
      "\u001b[1;36m  Cell \u001b[1;32mIn[27], line 9\u001b[1;36m\u001b[0m\n\u001b[1;33m    sample_text.txt=:[\"example (.com)\", \"hr@fliprobo (.com)\", \"github (.com)\", \"Hello (Data Science World)\", \"Data (Scientist)\"]\u001b[0m\n\u001b[1;37m                    ^\u001b[0m\n\u001b[1;31mSyntaxError\u001b[0m\u001b[1;31m:\u001b[0m invalid syntax\n"
     ]
    }
   ],
   "source": [
    "import re\n",
    "\n",
    "def remove_parenthesis_from_text(text):\n",
    "    pattern = re.compile(r'\\s*\\([^)]*\\)')\n",
    "    modified_text = re.sub(pattern, '', text)\n",
    "return modified_text\n",
    "\n",
    "def main():\n",
    "    sample_text.txt=:[\"example (.com)\", \"hr@fliprobo (.com)\", \"github (.com)\", \"Hello (Data Science World)\", \"Data (Scientist)\"]\n",
    "    with open(\"sample_text.txt\", 'r') as file:\n",
    "        text = file.read()\n",
    "\n",
    "    modified_text = remove_parenthesis_from_text(text)\n",
    "\n",
    "    \n",
    "    modified_text_list = modified_text.split(\", \")\n",
    "\n",
    "    modified_text_list = [s.strip() for s in modified_text_list]\n",
    "\n",
    "    print(\"Expected Output:\", modified_text_list)\n",
    "\n",
    "if __name__ == \"__main__\":\n",
    "    main()"
   ]
  },
  {
   "cell_type": "code",
   "execution_count": 83,
   "id": "ed0592f2",
   "metadata": {},
   "outputs": [
    {
     "name": "stdout",
     "output_type": "stream",
     "text": [
      " ['Importance', 'Of', 'Regular', 'Expressions', 'In', 'Python']\n"
     ]
    }
   ],
   "source": [
    "import re\n",
    "sample_text = \"ImportanceOfRegularExpressionsInPython\"\n",
    "\n",
    "pattern = r'[A-Z][a-z]*'\n",
    "\n",
    "\n",
    "result = re.findall(pattern, sample_text)\n",
    "\n",
    "print(\"\", result)"
   ]
  },
  {
   "cell_type": "code",
   "execution_count": 84,
   "id": "9ae0bc48",
   "metadata": {},
   "outputs": [
    {
     "name": "stdout",
     "output_type": "stream",
     "text": [
      " Regular Expression 1Is An 2Important Topic 3In Python\n"
     ]
    }
   ],
   "source": [
    "import re\n",
    "\n",
    "def insert_spaces(text):\n",
    "    modified_text = re.sub(r'(?<=[a-z])([A-Z0-9])', r' \\1', text)\n",
    "    return modified_text\n",
    "\n",
    "sample_text = \"RegularExpression1IsAn2ImportantTopic3InPython\"\n",
    "\n",
    "result = insert_spaces(sample_text)\n",
    "\n",
    "print(\"\", result)"
   ]
  },
  {
   "cell_type": "code",
   "execution_count": 18,
   "id": "38047266",
   "metadata": {},
   "outputs": [
    {
     "name": "stdout",
     "output_type": "stream",
     "text": [
      "       Country          Region  Happiness Rank  Happiness Score  \\\n",
      "0  Switzerland  Western Europe               1            7.587   \n",
      "1      Iceland  Western Europe               2            7.561   \n",
      "2      Denmark  Western Europe               3            7.527   \n",
      "3       Norway  Western Europe               4            7.522   \n",
      "4       Canada   North America               5            7.427   \n",
      "\n",
      "   Standard Error  Economy (GDP per Capita)   Family  \\\n",
      "0         0.03411                   1.39651  1.34951   \n",
      "1         0.04884                   1.30232  1.40223   \n",
      "2         0.03328                   1.32548  1.36058   \n",
      "3         0.03880                   1.45900  1.33095   \n",
      "4         0.03553                   1.32629  1.32261   \n",
      "\n",
      "   Health (Life Expectancy)  Freedom  Trust (Government Corruption)  \\\n",
      "0                   0.94143  0.66557                        0.41978   \n",
      "1                   0.94784  0.62877                        0.14145   \n",
      "2                   0.87464  0.64938                        0.48357   \n",
      "3                   0.88521  0.66973                        0.36503   \n",
      "4                   0.90563  0.63297                        0.32957   \n",
      "\n",
      "   Generosity  Dystopia Residual first_five_letters  \n",
      "0     0.29678            2.51738             Switze  \n",
      "1     0.43630            2.70201             Icelan  \n",
      "2     0.34139            2.49204             Denmar  \n",
      "3     0.34699            2.46531             Norway  \n",
      "4     0.45811            2.45176             Canada  \n"
     ]
    }
   ],
   "source": [
    "import pandas as pd\n",
    "\n",
    "url = \"https://raw.githubusercontent.com/dsrscientist/DSData/master/happiness_score_dataset.cs\n",
    "df = pd.read_csv(url)\n",
    "\n",
    "df['first_five_letters'] = df['Country'].str[:6]\n",
    "\n",
    "print(df.head())"
   ]
  },
  {
   "cell_type": "code",
   "execution_count": 85,
   "id": "aa6435cd",
   "metadata": {},
   "outputs": [
    {
     "name": "stdout",
     "output_type": "stream",
     "text": [
      "'Hello12' matches pattern: True\n",
      "'Test_String' matches pattern: True\n",
      "'123' matches pattern: True\n",
      "'Special@chars' matches pattern: True\n",
      "'numeric_123' matches pattern: True\n"
     ]
    }
   ],
   "source": [
    "import re\n",
    "\n",
    "def match_string(string):\n",
    "    pattern = r'^[a-zA-Z0-9_]'\n",
    "    match = re.match(pattern, string)\n",
    "    if match:\n",
    "        return True\n",
    "    else:\n",
    "        return False\n",
    "\n",
    "strings_to_test = [\"Hello12\", \"Test_String\", \"123\", \"Special@chars\", \"numeric_123\"]\n",
    "for string in strings_to_test:\n",
    "    print(f\"'{string}' matches pattern:\", match_string(string))"
   ]
  },
  {
   "cell_type": "code",
   "execution_count": 87,
   "id": "27767a50",
   "metadata": {},
   "outputs": [
    {
     "name": "stdout",
     "output_type": "stream",
     "text": [
      " '123ABC' start with 123? True\n",
      " '456DEF' start with 789? False\n"
     ]
    }
   ],
   "source": [
    "def starts_with_number(string, number):\n",
    "    number_str = str(number)\n",
    "    \n",
    "    if string.startswith(number_str):\n",
    "        return True\n",
    "    else:\n",
    "        return False\n",
    "\n",
    "string1 = \"123ABC\"\n",
    "number1 = 123\n",
    "print(f\" '{string1}' start with {number1}? {starts_with_number(string1, number1)}\")\n",
    "\n",
    "string2 = \"456DEF\"\n",
    "number2 = 789\n",
    "print(f\" '{string2}' start with {number2}? {starts_with_number(string2, number2)}\")"
   ]
  },
  {
   "cell_type": "code",
   "execution_count": 24,
   "id": "1f4e0fa7",
   "metadata": {},
   "outputs": [
    {
     "name": "stdout",
     "output_type": "stream",
     "text": [
      "Original IP address: 192.168.001.001\n",
      "IP address without leading zeros: 192.168.1.1\n"
     ]
    }
   ],
   "source": [
    "def remove_leading_zeros(ip_address):\n",
    "    components = ip_address.split('.')\n",
    "\n",
    "    components = [str(int(component)) for component in components]\n",
    "    cleaned_ip = '.'.join(components)\n",
    "\n",
    "    return cleaned_ip\n",
    "\n",
    "ip_address = \"192.168.001.001\"\n",
    "cleaned_ip = remove_leading_zeros(ip_address)\n",
    "print(\"Original IP address:\", ip_address)\n",
    "print(\"IP address without leading zeros:\", cleaned_ip)"
   ]
  },
  {
   "cell_type": "code",
   "execution_count": 88,
   "id": "7786f3b8",
   "metadata": {},
   "outputs": [
    {
     "name": "stdout",
     "output_type": "stream",
     "text": [
      " ['August 15th 1947']\n"
     ]
    }
   ],
   "source": [
    "import re\n",
    "sample_text = 'On August 15th 1947 that India was declared independent from British colonialism, and the reins of control were handed over to the leaders of the Country.'\n",
    "pattern = r'\\b(?:January|February|March|April|May|June|July|August|September|October|November|December)\\s+\\d{1,2}(?:st|nd|rd|th)\\s+\\d{4}\\b'\n",
    "\n",
    "\n",
    "matches = re.findall(pattern, sample_text)\n",
    "print(\"\", matches)\n",
    "\n",
    "\n",
    "import re\n",
    "\n",
    "def extract_date_from_text(file_path):\n",
    "\n",
    "    with open(file_path, 'r') as file:\n",
    "        text = file.read()\n",
    "    pattern = r'\\b(?:January|February|March|April|May|June|July|August|September|October|November|December)\\s+\\d{1,2}(?:st|nd|rd|th)\\s+\\d{4}\\b'\n",
    "\n",
    "    matches = re.findall(pattern, text)\n",
    "\n",
    "    return matches\n",
    "\n",
    "file_path = \"sample_text.txt\""
   ]
  },
  {
   "cell_type": "code",
   "execution_count": 28,
   "id": "a446a73e",
   "metadata": {},
   "outputs": [
    {
     "name": "stdout",
     "output_type": "stream",
     "text": [
      "Found words: ['fox', 'dog']\n"
     ]
    }
   ],
   "source": [
    "def search_words(sample_text, searched_words):\n",
    "    found_words = []\n",
    "    for word in searched_words:\n",
    "        if word in sample_text:\n",
    "            found_words.append(word)\n",
    "    return found_words\n",
    "\n",
    "sample_text = 'The quick brown fox jumps over the lazy dog.'\n",
    "\n",
    "searched_words = ['fox', 'dog', 'horse']\n",
    "\n",
    "found_words = search_words(sample_text, searched_words)\n",
    "\n",
    "print(\"Found words:\", found_words)"
   ]
  },
  {
   "cell_type": "code",
   "execution_count": 29,
   "id": "a4be6442",
   "metadata": {},
   "outputs": [
    {
     "name": "stdout",
     "output_type": "stream",
     "text": [
      "'fox' found at index 16 in the sample text.\n"
     ]
    }
   ],
   "source": [
    "def search_word_with_location(sample_text, searched_word):\n",
    "    index = sample_text.find(searched_word)\n",
    "\n",
    "    if index != -1:\n",
    "        return f\"'{searched_word}' found at index {index} in the sample text.\"\n",
    "    else:\n",
    "        return f\"'{searched_word}' not found in the sample text.\"\n",
    "\n",
    "sample_text = 'The quick brown fox jumps over the lazy dog.'\n",
    "\n",
    "searched_word = 'fox'\n",
    "\n",
    "result = search_word_with_location(sample_text, searched_word)\n",
    "\n",
    "print(result)"
   ]
  },
  {
   "cell_type": "code",
   "execution_count": 30,
   "id": "6576c800",
   "metadata": {},
   "outputs": [
    {
     "name": "stdout",
     "output_type": "stream",
     "text": [
      "The pattern 'exercises' occurs at the following indices:\n",
      "[7, 22, 36]\n"
     ]
    }
   ],
   "source": [
    "def find_substrings(sample_text, pattern):\n",
    "    indices = []\n",
    "    start_index = 0\n",
    "    \n",
    "    while start_index < len(sample_text):\n",
    "        index = sample_text.find(pattern, start_index)\n",
    "        if index == -1:\n",
    "            break\n",
    "        indices.append(index)\n",
    "        start_index = index + len(pattern)\n",
    "    \n",
    "    return indices\n",
    "sample_text = 'Python exercises, PHP exercises, C# exercises'\n",
    "\n",
    "pattern = 'exercises'\n",
    "\n",
    "substrings_indices = find_substrings(sample_text, pattern)\n",
    "print(f\"The pattern '{pattern}' occurs at the following indices:\")\n",
    "print(substrings_indices)"
   ]
  },
  {
   "cell_type": "code",
   "execution_count": 31,
   "id": "83ed4384",
   "metadata": {},
   "outputs": [
    {
     "name": "stdout",
     "output_type": "stream",
     "text": [
      "The pattern 'exercises' occurs at the following positions:\n",
      "Position: 7, Occurrence: exercises\n",
      "Position: 22, Occurrence: exercises\n",
      "Position: 36, Occurrence: exercises\n"
     ]
    }
   ],
   "source": [
    "def find_occurrence_and_position(sample_text, pattern):\n",
    "    occurrences = []\n",
    "    position = 0\n",
    "\n",
    "    while True:\n",
    "        index = sample_text.find(pattern, position)\n",
    "        \n",
    "        if index == -1:\n",
    "            break\n",
    "        occurrences.append((pattern, index))\n",
    "\n",
    "        position = index + len(pattern)\n",
    "\n",
    "    return occurrences\n",
    "\n",
    "sample_text = 'Python exercises, PHP exercises, C# exercises'\n",
    "pattern = 'exercises'\n",
    "occurrences = find_occurrence_and_position(sample_text, pattern)\n",
    "if occurrences:\n",
    "    print(f\"The pattern '{pattern}' occurs at the following positions:\")\n",
    "    for occurrence in occurrences:\n",
    "        print(f\"Position: {occurrence[1]}, Occurrence: {occurrence[0]}\")\n",
    "else:\n",
    "    print(f\"The pattern '{pattern}' does not occur in the string.\")"
   ]
  },
  {
   "cell_type": "code",
   "execution_count": 33,
   "id": "3c88b3ca",
   "metadata": {},
   "outputs": [
    {
     "name": "stdout",
     "output_type": "stream",
     "text": [
      "Original date (yyyy-mm-dd): 2024-2-2\n",
      "Converted date (dd-mm-yyyy): 02-02-2024\n"
     ]
    }
   ],
   "source": [
    "from datetime import datetime\n",
    "\n",
    "def convert_date_format(date_str):\n",
    "    date_object = datetime.strptime(date_str, '%Y-%m-%d')\n",
    "    formatted_date = date_object.strftime('%d-%m-%Y')\n",
    "\n",
    "    return formatted_date\n",
    "\n",
    "date_str = '2024-2-2'\n",
    "\n",
    "formatted_date = convert_date_format(date_str)\n",
    "\n",
    "print(\"Original date (yyyy-mm-dd):\", date_str)\n",
    "print(\"Converted date (dd-mm-yyyy):\", formatted_date)"
   ]
  },
  {
   "cell_type": "code",
   "execution_count": 89,
   "id": "b68eec94",
   "metadata": {},
   "outputs": [
    {
     "name": "stdout",
     "output_type": "stream",
     "text": [
      " ['01.12', '145.8', '3.01', '27.25', '0.25']\n"
     ]
    }
   ],
   "source": [
    "import re\n",
    "\n",
    "def find_decimal_numbers(text):\n",
    "    \n",
    "    pattern = re.compile(r'\\b\\d+\\.\\d{1,2}\\b')\n",
    "\n",
    "   \n",
    "    decimal_numbers = pattern.findall(text)\n",
    "\n",
    "    return decimal_numbers\n",
    "\n",
    "\n",
    "sample_text = \"01.12 0132.123 2.31875 145.8 3.01 27.25 0.25\"\n",
    "decimal_numbers = find_decimal_numbers(sample_text)\n",
    "\n",
    "\n",
    "print(\"\", decimal_numbers)"
   ]
  },
  {
   "cell_type": "code",
   "execution_count": 35,
   "id": "c9958397",
   "metadata": {},
   "outputs": [
    {
     "name": "stdout",
     "output_type": "stream",
     "text": [
      "Numbers and their positions:\n",
      "Number: 1, Position: 3\n",
      "Number: 2, Position: 4\n",
      "Number: 3, Position: 5\n",
      "Number: 4, Position: 9\n",
      "Number: 5, Position: 10\n",
      "Number: 6, Position: 11\n",
      "Number: 7, Position: 15\n",
      "Number: 8, Position: 16\n",
      "Number: 9, Position: 17\n"
     ]
    }
   ],
   "source": [
    "def separate_numbers_and_positions(input_string):\n",
    "    numbers_with_positions = []\n",
    "    for index, char in enumerate(input_string):\n",
    "        if char.isdigit():\n",
    "            numbers_with_positions.append((char, index))\n",
    "    return numbers_with_positions\n",
    "\n",
    "\n",
    "input_string = \"abc123def456ghi789\"\n",
    "numbers_and_positions = separate_numbers_and_positions(input_string)\n",
    "print(\"Numbers and their positions:\")\n",
    "for number, position in numbers_and_positions:\n",
    "    print(f\"Number: {number}, Position: {position}\")"
   ]
  },
  {
   "cell_type": "code",
   "execution_count": 37,
   "id": "f1ecb24f",
   "metadata": {},
   "outputs": [
    {
     "name": "stdout",
     "output_type": "stream",
     "text": [
      "Numbers and their positions:\n",
      "Number: 1, Position: 3\n",
      "Number: 2, Position: 4\n",
      "Number: 3, Position: 5\n",
      "Number: 4, Position: 9\n",
      "Number: 5, Position: 10\n",
      "Number: 6, Position: 11\n",
      "Number: 7, Position: 15\n",
      "Number: 8, Position: 16\n",
      "Number: 9, Position: 17\n"
     ]
    }
   ],
   "source": [
    "def print_numbers_and_positions(input_string):\n",
    "    numbers_with_positions = []\n",
    "    for index, char in enumerate(input_string):\n",
    "        if char.isdigit():\n",
    "            numbers_with_positions.append((char, index))\n",
    "    \n",
    "    print(\"Numbers and their positions:\")\n",
    "    for number, position in numbers_with_positions:\n",
    "        print(f\"Number: {number}, Position: {position}\")\n",
    "\n",
    "input_string = \"abc123def456ghi789\"\n",
    "print_numbers_and_positions(input_string)"
   ]
  },
  {
   "cell_type": "code",
   "execution_count": 92,
   "id": "0c62d204",
   "metadata": {},
   "outputs": [
    {
     "name": "stdout",
     "output_type": "stream",
     "text": [
      "Maximum Numeric Value: 950\n"
     ]
    }
   ],
   "source": [
    "import re\n",
    "\n",
    "def extract_max_numeric_value(text):\n",
    "    \n",
    "    pattern = r'\\b\\d+\\b'\n",
    "\n",
    "    \n",
    "    numeric_values = re.findall(pattern, text)\n",
    "\n",
    "    \n",
    "    max_value = max(map(int, numeric_values))\n",
    "\n",
    "    return max_value\n",
    "\n",
    "\n",
    "sample_text = 'My marks in each semester are: 947, 896, 926, 524, 734, 950, 642'\n",
    "\n",
    "\n",
    "max_numeric_value = extract_max_numeric_value(sample_text)\n",
    "print(\"Maximum Numeric Value:\", max_numeric_value)"
   ]
  },
  {
   "cell_type": "code",
   "execution_count": 75,
   "id": "db10add0",
   "metadata": {},
   "outputs": [
    {
     "name": "stdout",
     "output_type": "stream",
     "text": [
      " Regular Expression Is An Important Topic In Python\n"
     ]
    }
   ],
   "source": [
    "import re\n",
    "\n",
    "def insert_spaces(text):\n",
    "    \n",
    "    modified_text = re.sub(r'(?<!^)(?=[A-Z])', ' ', text)\n",
    "\n",
    "    return modified_text\n",
    "\n",
    "\n",
    "sample_text = \"RegularExpressionIsAnImportantTopicInPython\"\n",
    "\n",
    "\n",
    "output_text = insert_spaces(sample_text)\n",
    "\n",
    "\n",
    "print(\"\", output_text)"
   ]
  },
  {
   "cell_type": "code",
   "execution_count": 74,
   "id": "1f32c822",
   "metadata": {},
   "outputs": [
    {
     "name": "stdout",
     "output_type": "stream",
     "text": [
      " ['This', 'Python', 'Regex', 'Example', 'Robo']\n"
     ]
    }
   ],
   "source": [
    "import re\n",
    "\n",
    "\n",
    "sample_text = \" This is a Python Regex Example. FLIP Robo company.\"\n",
    "\n",
    "\n",
    "pattern = r'\\b[A-Z][a-z]+\\b'\n",
    "\n",
    "\n",
    "matches = re.findall(pattern, sample_text)\n",
    "\n",
    "\n",
    "print(\"\", matches)"
   ]
  },
  {
   "cell_type": "code",
   "execution_count": 73,
   "id": "7eed5463",
   "metadata": {},
   "outputs": [
    {
     "name": "stdout",
     "output_type": "stream",
     "text": [
      " Hello hello world\n"
     ]
    }
   ],
   "source": [
    "import re\n",
    "\n",
    "def remove_continuous_duplicates(sentence):\n",
    "   \n",
    "    pattern = r'\\b(\\w+)(?:\\s+\\1\\b)+'\n",
    "\n",
    "    \n",
    "    cleaned_sentence = re.sub(pattern, r'\\1', sentence)\n",
    "\n",
    "    return cleaned_sentence\n",
    "\n",
    "\n",
    "sample_text = \"Hello hello world world\"\n",
    "cleaned_sentence = remove_continuous_duplicates(sample_text)\n",
    "\n",
    "print(\"\", cleaned_sentence)"
   ]
  },
  {
   "cell_type": "code",
   "execution_count": 72,
   "id": "fc8a849d",
   "metadata": {},
   "outputs": [
    {
     "name": "stdout",
     "output_type": "stream",
     "text": [
      " 'hello123' - Ends with alphanumeric character: True\n",
      " 'example!' - Ends with alphanumeric character: False\n",
      " '12345' - Ends with alphanumeric character: True\n",
      " 'python3!' - Ends with alphanumeric character: False\n"
     ]
    }
   ],
   "source": [
    "import re\n",
    "\n",
    "def accept_string_ending_with_alphanumeric(string):\n",
    "    \n",
    "    pattern = r'^.*[a-zA-Z0-9]$'\n",
    "\n",
    "    \n",
    "    match = re.match(pattern, string)\n",
    "\n",
    "    \n",
    "    if match:\n",
    "        return True\n",
    "    else:\n",
    "        return False\n",
    "\n",
    "\n",
    "test_strings = [ \"hello123\",   \"example!\",  \"12345\",   \"python3!\",  ]\n",
    "\n",
    "\n",
    "for string in test_strings:\n",
    "    print(f\" '{string}' - Ends with alphanumeric character:\", accept_string_ending_with_alphanumeric(string))\n"
   ]
  },
  {
   "cell_type": "code",
   "execution_count": 71,
   "id": "29ad06fa",
   "metadata": {},
   "outputs": [
    {
     "name": "stdout",
     "output_type": "stream",
     "text": [
      " ['#Doltiwal', '#xyzabc', '#Demonetization']\n"
     ]
    }
   ],
   "source": [
    "import re\n",
    "\n",
    "def extract_hashtags(text):\n",
    "    \n",
    "    pattern = r'#[a-zA-Z0-9_]+'\n",
    "\n",
    "    hashtags = re.findall(pattern, text)\n",
    "\n",
    "    return hashtags\n",
    "\n",
    "\n",
    "sample_text = \"\"\"RT @kapil_kausik: #Doltiwal I mean #xyzabc is \"hurt\" by #Demonetization as the same has rendered USELESS <ed><U+00A0><U+00BD><ed><U+00B1><U+0089> \"acquired funds\" No wo\"\"\"\n",
    "\n",
    "\n",
    "hashtags = extract_hashtags(sample_text)\n",
    "print(\"\", hashtags)"
   ]
  },
  {
   "cell_type": "code",
   "execution_count": 70,
   "id": "13215e71",
   "metadata": {},
   "outputs": [
    {
     "name": "stdout",
     "output_type": "stream",
     "text": [
      " @Jags123456 Bharat band on 28??<ed><ed>Those who are protesting #demonetization are all different party leaders\n"
     ]
    }
   ],
   "source": [
    "import re\n",
    "\n",
    "def remove_u_plus_symbols(text):\n",
    "    \n",
    "    pattern = r'<U\\+\\w{4}>'\n",
    "\n",
    "   \n",
    "    cleaned_text = re.sub(pattern, '', text)\n",
    "\n",
    "    return cleaned_text\n",
    "\n",
    "\n",
    "sample_text = \"@Jags123456 Bharat band on 28??<ed><U+00A0><U+00BD><ed><U+00B8><U+0082>Those who are protesting #demonetization are all different party leaders\"\n",
    "\n",
    "\n",
    "cleaned_text = remove_u_plus_symbols(sample_text)\n",
    "\n",
    "print(\"\", cleaned_text)"
   ]
  },
  {
   "cell_type": "code",
   "execution_count": 76,
   "id": "9fc220ac",
   "metadata": {},
   "outputs": [
    {
     "ename": "FileNotFoundError",
     "evalue": "[Errno 2] No such file or directory: 'sample_text.txt'",
     "output_type": "error",
     "traceback": [
      "\u001b[1;31m---------------------------------------------------------------------------\u001b[0m",
      "\u001b[1;31mFileNotFoundError\u001b[0m                         Traceback (most recent call last)",
      "Cell \u001b[1;32mIn[76], line 20\u001b[0m\n\u001b[0;32m     14\u001b[0m     \u001b[38;5;28;01mreturn\u001b[39;00m dates\n\u001b[0;32m     17\u001b[0m file_path \u001b[38;5;241m=\u001b[39m \u001b[38;5;124m'\u001b[39m\u001b[38;5;124msample_text.txt\u001b[39m\u001b[38;5;124m'\u001b[39m\n\u001b[1;32m---> 20\u001b[0m dates \u001b[38;5;241m=\u001b[39m extract_dates_from_text(file_path)\n\u001b[0;32m     23\u001b[0m \u001b[38;5;28mprint\u001b[39m(\u001b[38;5;124m\"\u001b[39m\u001b[38;5;124mExtracted Dates:\u001b[39m\u001b[38;5;124m\"\u001b[39m, dates)\n",
      "Cell \u001b[1;32mIn[76], line 5\u001b[0m, in \u001b[0;36mextract_dates_from_text\u001b[1;34m(file_path)\u001b[0m\n\u001b[0;32m      3\u001b[0m \u001b[38;5;28;01mdef\u001b[39;00m \u001b[38;5;21mextract_dates_from_text\u001b[39m(file_path):\n\u001b[1;32m----> 5\u001b[0m     \u001b[38;5;28;01mwith\u001b[39;00m \u001b[38;5;28mopen\u001b[39m(file_path, \u001b[38;5;124m'\u001b[39m\u001b[38;5;124mr\u001b[39m\u001b[38;5;124m'\u001b[39m) \u001b[38;5;28;01mas\u001b[39;00m file:\n\u001b[0;32m      6\u001b[0m         text \u001b[38;5;241m=\u001b[39m file\u001b[38;5;241m.\u001b[39mread()\n\u001b[0;32m      9\u001b[0m     pattern \u001b[38;5;241m=\u001b[39m \u001b[38;5;124mr\u001b[39m\u001b[38;5;124m'\u001b[39m\u001b[38;5;124m\\\u001b[39m\u001b[38;5;124mb\u001b[39m\u001b[38;5;124m\\\u001b[39m\u001b[38;5;124md\u001b[39m\u001b[38;5;132;01m{2}\u001b[39;00m\u001b[38;5;124m-\u001b[39m\u001b[38;5;124m\\\u001b[39m\u001b[38;5;124md\u001b[39m\u001b[38;5;132;01m{2}\u001b[39;00m\u001b[38;5;124m-\u001b[39m\u001b[38;5;124m\\\u001b[39m\u001b[38;5;124md\u001b[39m\u001b[38;5;132;01m{4}\u001b[39;00m\u001b[38;5;124m\\\u001b[39m\u001b[38;5;124mb\u001b[39m\u001b[38;5;124m'\u001b[39m\n",
      "File \u001b[1;32mC:\\ProgramData\\anaconda3\\Lib\\site-packages\\IPython\\core\\interactiveshell.py:284\u001b[0m, in \u001b[0;36m_modified_open\u001b[1;34m(file, *args, **kwargs)\u001b[0m\n\u001b[0;32m    277\u001b[0m \u001b[38;5;28;01mif\u001b[39;00m file \u001b[38;5;129;01min\u001b[39;00m {\u001b[38;5;241m0\u001b[39m, \u001b[38;5;241m1\u001b[39m, \u001b[38;5;241m2\u001b[39m}:\n\u001b[0;32m    278\u001b[0m     \u001b[38;5;28;01mraise\u001b[39;00m \u001b[38;5;167;01mValueError\u001b[39;00m(\n\u001b[0;32m    279\u001b[0m         \u001b[38;5;124mf\u001b[39m\u001b[38;5;124m\"\u001b[39m\u001b[38;5;124mIPython won\u001b[39m\u001b[38;5;124m'\u001b[39m\u001b[38;5;124mt let you open fd=\u001b[39m\u001b[38;5;132;01m{\u001b[39;00mfile\u001b[38;5;132;01m}\u001b[39;00m\u001b[38;5;124m by default \u001b[39m\u001b[38;5;124m\"\u001b[39m\n\u001b[0;32m    280\u001b[0m         \u001b[38;5;124m\"\u001b[39m\u001b[38;5;124mas it is likely to crash IPython. If you know what you are doing, \u001b[39m\u001b[38;5;124m\"\u001b[39m\n\u001b[0;32m    281\u001b[0m         \u001b[38;5;124m\"\u001b[39m\u001b[38;5;124myou can use builtins\u001b[39m\u001b[38;5;124m'\u001b[39m\u001b[38;5;124m open.\u001b[39m\u001b[38;5;124m\"\u001b[39m\n\u001b[0;32m    282\u001b[0m     )\n\u001b[1;32m--> 284\u001b[0m \u001b[38;5;28;01mreturn\u001b[39;00m io_open(file, \u001b[38;5;241m*\u001b[39margs, \u001b[38;5;241m*\u001b[39m\u001b[38;5;241m*\u001b[39mkwargs)\n",
      "\u001b[1;31mFileNotFoundError\u001b[0m: [Errno 2] No such file or directory: 'sample_text.txt'"
     ]
    }
   ],
   "source": [
    "import re\n",
    "\n",
    "def extract_dates_from_text(file_path):\n",
    "    \n",
    "    with open(file_path, 'r') as file:\n",
    "        text = file.read()\n",
    "\n",
    "   \n",
    "    pattern = r'\\b\\d{2}-\\d{2}-\\d{4}\\b'\n",
    "\n",
    "   \n",
    "    dates = re.findall(pattern, text)\n",
    "\n",
    "    return dates\n",
    "\n",
    "\n",
    "file_path = 'sample_text.txt'\n",
    "\n",
    "\n",
    "dates = extract_dates_from_text(file_path)\n",
    "\n",
    "\n",
    "print(\"Extracted Dates:\", dates)"
   ]
  },
  {
   "cell_type": "code",
   "execution_count": 81,
   "id": "7d245495",
   "metadata": {},
   "outputs": [
    {
     "name": "stdout",
     "output_type": "stream",
     "text": [
      "  following example creates  ArrayList  a capacity   elements. 4 elements   added   ArrayList   ArrayList  trimmed accordingly.\n"
     ]
    }
   ],
   "source": [
    "import re\n",
    "\n",
    "def remove_words_between_length_2_and_4(text):\n",
    "    \n",
    "    pattern = re.compile(r'\\b\\w{2,4}\\b')\n",
    "\n",
    "    \n",
    "    cleaned_text = pattern.sub('', text)\n",
    "\n",
    "    return cleaned_text\n",
    "\n",
    "\n",
    "sample_text = \"The following example creates an ArrayList with a capacity of 50 elements. 4 elements are then added to the ArrayList and the ArrayList is trimmed accordingly.\"\n",
    "\n",
    "\n",
    "cleaned_text = remove_words_between_length_2_and_4(sample_text)\n",
    "\n",
    "\n",
    "print(\"\", cleaned_text)"
   ]
  },
  {
   "cell_type": "code",
   "execution_count": null,
   "id": "e1c0862c",
   "metadata": {},
   "outputs": [],
   "source": []
  },
  {
   "cell_type": "code",
   "execution_count": null,
   "id": "f469c267",
   "metadata": {},
   "outputs": [],
   "source": []
  },
  {
   "cell_type": "code",
   "execution_count": null,
   "id": "4893f8d4",
   "metadata": {},
   "outputs": [],
   "source": []
  },
  {
   "cell_type": "code",
   "execution_count": null,
   "id": "852a9007",
   "metadata": {},
   "outputs": [],
   "source": []
  }
 ],
 "metadata": {
  "kernelspec": {
   "display_name": "Python 3 (ipykernel)",
   "language": "python",
   "name": "python3"
  },
  "language_info": {
   "codemirror_mode": {
    "name": "ipython",
    "version": 3
   },
   "file_extension": ".py",
   "mimetype": "text/x-python",
   "name": "python",
   "nbconvert_exporter": "python",
   "pygments_lexer": "ipython3",
   "version": "3.11.4"
  }
 },
 "nbformat": 4,
 "nbformat_minor": 5
}
